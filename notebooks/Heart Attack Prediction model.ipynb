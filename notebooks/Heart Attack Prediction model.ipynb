{
 "cells": [
  {
   "cell_type": "code",
   "execution_count": null,
   "id": "548243bf",
   "metadata": {},
   "outputs": [],
   "source": [
    "# general libraries \n",
    "\n",
    "import os \n",
    "import numpy as np\n",
    "import pandas as pd \n",
    "import seaborn as sns\n",
    "from tqdm.notebook import tqdm \n",
    "import matplotlib.pyplot as plt "
   ]
  },
  {
   "cell_type": "code",
   "execution_count": null,
   "id": "8cf2b6bd",
   "metadata": {},
   "outputs": [],
   "source": [
    "# sklearn libraries \n",
    "\n",
    "from sklearn.preprocessing import RobustScaler\n",
    "from sklearn.model_selection import train_test_split,GridSearchCV\n",
    "from sklearn.linear_model import LogisticRegression\n",
    "from sklearn.metrics import accuracy_score,confusion_matrix,classification_report\n",
    "from sklearn.metrics import roc_auc_score,roc_curve"
   ]
  },
  {
   "cell_type": "code",
   "execution_count": null,
   "id": "9ce0df52",
   "metadata": {},
   "outputs": [],
   "source": [
    "# PyTorch libraries \n",
    "\n",
    "import torch \n",
    "import torch.nn as nn \n",
    "import torch.nn.functional as F \n",
    "from torch.autograd import Variable"
   ]
  },
  {
   "cell_type": "code",
   "execution_count": null,
   "id": "b7420d5a",
   "metadata": {},
   "outputs": [],
   "source": [
    "df = pd.read_csv('../Data/heart.csv')\n",
    "df.head()"
   ]
  },
  {
   "cell_type": "code",
   "execution_count": null,
   "id": "fd757ac2",
   "metadata": {},
   "outputs": [],
   "source": [
    "# check for any NaN values\n",
    "\n",
    "df.isna().sum()"
   ]
  },
  {
   "cell_type": "markdown",
   "id": "054193cf",
   "metadata": {},
   "source": [
    "Categorical Feature Analysis"
   ]
  },
  {
   "cell_type": "code",
   "execution_count": null,
   "id": "be3b4eba",
   "metadata": {},
   "outputs": [],
   "source": [
    "categorical_list = [\"sex\", \"cp\",\"fbs\",\"restecg\",\"exng\",\"slp\",\"caa\",\"thall\",\"output\"]"
   ]
  },
  {
   "cell_type": "code",
   "execution_count": null,
   "id": "c040ecac",
   "metadata": {},
   "outputs": [],
   "source": [
    "df_categoric = df.loc[:, categorical_list]\n",
    "for i in categorical_list:\n",
    "    plt.figure()\n",
    "    sns.countplot(x = i, data = df_categoric, hue ='output')\n",
    "    plt.title(i)"
   ]
  },
  {
   "cell_type": "markdown",
   "id": "76b1c00a",
   "metadata": {},
   "source": [
    "Numeric Feature Analysis\n",
    "* Bivariate data analysis with scatter plot"
   ]
  },
  {
   "cell_type": "code",
   "execution_count": null,
   "id": "b1c9c9b2",
   "metadata": {},
   "outputs": [],
   "source": [
    "numeric_list = [\"age\", \"trtbps\",\"chol\",\"thalachh\",\"oldpeak\",'output']"
   ]
  },
  {
   "cell_type": "code",
   "execution_count": null,
   "metadata": {},
   "outputs": [],
   "source": [
    "df_numeric = df.loc[:, numeric_list]\n",
    "sns.pairplot(df_numeric, hue=\"output\", kind=\"kde\")\n",
    "plt.show()"
   ]
  },
  {
   "cell_type": "markdown",
   "id": "3e47237f",
   "metadata": {},
   "source": [
    "Standardization"
   ]
  },
  {
   "cell_type": "code",
   "execution_count": null,
   "metadata": {},
   "outputs": [],
   "source": [
    "scaler = RobustScaler()\n",
    "scaler"
   ]
  },
  {
   "cell_type": "code",
   "execution_count": null,
   "id": "4c8d1591",
   "metadata": {},
   "outputs": [],
   "source": [
    "scaled_array = scaler.fit_transform(df[numeric_list[:-1]])\n",
    "scaled_array"
   ]
  },
  {
   "cell_type": "code",
   "execution_count": null,
   "id": "1882d02f",
   "metadata": {},
   "outputs": [],
   "source": [
    "df_dummy = pd.DataFrame(scaled_array, columns = numeric_list[:-1])\n",
    "df_dummy.head()"
   ]
  },
  {
   "cell_type": "code",
   "execution_count": null,
   "id": "2d8f0abc",
   "metadata": {},
   "outputs": [],
   "source": [
    "plt.figure(figsize = (14,10))\n",
    "sns.heatmap(df.corr(), annot = True, fmt = \".1f\", linewidths = .7)\n",
    "plt.show()"
   ]
  },
  {
   "cell_type": "markdown",
   "id": "dc4502ed",
   "metadata": {},
   "source": [
    "Outlier Detection¶\n",
    "* Outliers can disrupt ML process.\n"
   ]
  },
  {
   "cell_type": "code",
   "execution_count": null,
   "id": "8ad4de37",
   "metadata": {},
   "outputs": [],
   "source": [
    "numeric_list = [\"age\", \"trtbps\",\"chol\",\"thalachh\",\"oldpeak\"]\n",
    "df_numeric = df.loc[:, numeric_list]\n",
    "df_numeric.head()"
   ]
  },
  {
   "cell_type": "markdown",
   "id": "09f923a6",
   "metadata": {},
   "source": [
    "Modelling"
   ]
  },
  {
   "cell_type": "code",
   "execution_count": null,
   "id": "da070d7c",
   "metadata": {},
   "outputs": [],
   "source": [
    "df1 = df.copy()"
   ]
  },
  {
   "cell_type": "code",
   "execution_count": null,
   "id": "9efc1040",
   "metadata": {},
   "outputs": [],
   "source": [
    "df1 = pd.get_dummies(df1, columns = categorical_list[:-1], drop_first = True)\n",
    "df1.head()"
   ]
  },
  {
   "cell_type": "code",
   "execution_count": null,
   "id": "53e06149",
   "metadata": {},
   "outputs": [],
   "source": [
    "X = df1.drop([\"output\"], axis = 1)\n",
    "y = df1[[\"output\"]]"
   ]
  },
  {
   "cell_type": "code",
   "execution_count": null,
   "id": "d6209eeb",
   "metadata": {},
   "outputs": [],
   "source": [
    "scaler = RobustScaler()\n",
    "scaler"
   ]
  },
  {
   "cell_type": "code",
   "execution_count": null,
   "id": "5ee730f6",
   "metadata": {},
   "outputs": [],
   "source": [
    "X[numeric_list[:-1]] = scaler.fit_transform(X[numeric_list[:-1]])\n",
    "X.head()"
   ]
  },
  {
   "cell_type": "markdown",
   "id": "55ad3ab6",
   "metadata": {},
   "source": [
    "Train/Test Split"
   ]
  },
  {
   "cell_type": "code",
   "execution_count": null,
   "id": "529e209b",
   "metadata": {},
   "outputs": [],
   "source": [
    "X_train, X_test, y_train, y_test = train_test_split(X, y, test_size = 0.1, random_state = 3)\n",
    "print(\"X_train: {}\".format(X_train.shape))\n",
    "print(\"X_test: {}\".format(X_test.shape))\n",
    "print(\"y_train: {}\".format(y_train.shape))\n",
    "print(\"y_test: {}\".format(y_test.shape))\n"
   ]
  },
  {
   "cell_type": "markdown",
   "id": "4e7c6a4e",
   "metadata": {},
   "source": [
    "Logistic Regression"
   ]
  },
  {
   "cell_type": "code",
   "execution_count": null,
   "id": "bea18e7b",
   "metadata": {},
   "outputs": [],
   "source": [
    "model= LogisticRegression()\n",
    "model"
   ]
  },
  {
   "cell_type": "code",
   "execution_count": null,
   "id": "8f77cf55",
   "metadata": {},
   "outputs": [],
   "source": [
    "# fitting = training\n",
    "model.fit(X_train, y_train)"
   ]
  },
  {
   "cell_type": "code",
   "execution_count": null,
   "metadata": {},
   "outputs": [],
   "source": [
    "# calculate probabilities\n",
    "y_pred_prob = model.predict_proba(X_test)\n",
    "y_pred_prob"
   ]
  },
  {
   "cell_type": "code",
   "execution_count": null,
   "metadata": {},
   "outputs": [],
   "source": [
    "y_pred = np.argmax(y_pred_prob, axis = 1)\n",
    "y_pred"
   ]
  },
  {
   "cell_type": "code",
   "execution_count": null,
   "metadata": {},
   "outputs": [],
   "source": [
    "print(\"Test accuracy: {}\".format(accuracy_score(y_pred, y_test)))"
   ]
  },
  {
   "cell_type": "code",
   "execution_count": null,
   "id": "f848625d",
   "metadata": {},
   "outputs": [],
   "source": [
    "# ROC Curve\n",
    "fpr, tpr, thresholds = roc_curve(y_test, y_pred_prob[:,1])"
   ]
  },
  {
   "cell_type": "code",
   "execution_count": null,
   "id": "c3745a5e",
   "metadata": {},
   "outputs": [],
   "source": [
    "# plot curve\n",
    "plt.plot([0,1],[0,1],\"k--\")\n",
    "plt.plot(fpr, tpr, label = \"Logistic Regression\")\n",
    "plt.xlabel(\"False Positive Rate\")\n",
    "plt.ylabel(\"True Positive Rate\")\n",
    "plt.title(\"Logistic Regression ROC Curve\")\n",
    "plt.show()"
   ]
  },
  {
   "cell_type": "markdown",
   "id": "2745e226",
   "metadata": {},
   "source": [
    "### Model Inference"
   ]
  },
  {
   "cell_type": "code",
   "execution_count": null,
   "id": "7828c41a",
   "metadata": {},
   "outputs": [],
   "source": [
    "# sample request form \n",
    "\n",
    "parameters = {\n",
    "    'age' : 55, \n",
    "    'sex' : 'male', \n",
    "    'chest_pain_type': 2, \n",
    "    'resting_blood_pressure': 154, \n",
    "    'cholesterol': True, \n",
    "    'fasting_blood_sugar': True,\n",
    "    'resting_electro_cardio_graphic_result': 2, # between 0-2 \n",
    "    'max_heart_rate_achieved': 180, \n",
    "    'exercise_induced_angina': False, \n",
    "    'old_peak': 1.5, \n",
    "    \n",
    "}"
   ]
  },
  {
   "cell_type": "code",
   "execution_count": null,
   "id": "1edd7ecc",
   "metadata": {},
   "outputs": [],
   "source": [
    "from sklearn.preprocessing import RobustScaler\n",
    "\n",
    "numeric_features = ['age', 'trtbps', 'chol', 'thalachh', 'oldpeak']\n",
    "scaler = RobustScaler()\n",
    "X[numeric_features] = scaler.fit_transform(X[numeric_features])\n"
   ]
  },
  {
   "cell_type": "code",
   "execution_count": null,
   "id": "a2587ee9",
   "metadata": {},
   "outputs": [],
   "source": [
    "def preprocess_request(parameters, feature_columns, trained_scaler):\n",
    "    import pandas as pd\n",
    "    import numpy as np\n",
    "\n",
    "    # Map and prepare raw input\n",
    "    processed = {\n",
    "        'age': parameters['age'],\n",
    "        'trtbps': parameters['resting_blood_pressure'],\n",
    "        'chol': int(parameters['cholesterol']),\n",
    "        'thalachh': parameters['max_heart_rate_achieved'],\n",
    "        'oldpeak': parameters['old_peak'],\n",
    "        'sex': 1 if parameters['sex'] == 'male' else 0,\n",
    "        'cp': parameters['chest_pain_type'],\n",
    "        'fbs': int(parameters['fasting_blood_sugar']),\n",
    "        'restecg': parameters['resting_electro_cardio_graphic_result'],\n",
    "        'exng': int(parameters['exercise_induced_angina'])\n",
    "    }\n",
    "\n",
    "    # Create DataFrame\n",
    "    df = pd.DataFrame([processed])\n",
    "\n",
    "    # One-hot encode categorical vars\n",
    "    df = pd.get_dummies(df, columns=['sex', 'cp', 'fbs', 'restecg', 'exng'], drop_first=True)\n",
    "\n",
    "    # Ensure all expected columns are present\n",
    "    for col in feature_columns:\n",
    "        if col not in df.columns:\n",
    "            df[col] = 0  # Add missing columns with default 0\n",
    "\n",
    "    # Reorder columns to match model training\n",
    "    df = df[feature_columns]\n",
    "\n",
    "    # Scale numeric features\n",
    "    numeric_features = ['age', 'trtbps', 'chol', 'thalachh', 'oldpeak']\n",
    "    df[numeric_features] = trained_scaler.transform(df[numeric_features])\n",
    "\n",
    "    return df.values\n"
   ]
  },
  {
   "cell_type": "code",
   "execution_count": null,
   "id": "96332319",
   "metadata": {},
   "outputs": [],
   "source": []
  },
  {
   "cell_type": "markdown",
   "id": "3114e281",
   "metadata": {},
   "source": [
    "### Saving the model and the scaler"
   ]
  },
  {
   "cell_type": "code",
   "execution_count": null,
   "id": "6dab72d7",
   "metadata": {},
   "outputs": [],
   "source": [
    "import joblib\n",
    "\n",
    "# Save the best model from GridSearchCV\n",
    "joblib.dump(model,  '../Models/baseline_model.pt')"
   ]
  },
  {
   "cell_type": "code",
   "execution_count": null,
   "id": "93e311b1",
   "metadata": {},
   "outputs": [],
   "source": [
    "from joblib import dump\n",
    "dump(scaler, '../Models/baseline_scaler.joblib', compress=True)"
   ]
  },
  {
   "cell_type": "code",
   "execution_count": null,
   "id": "7d92311d",
   "metadata": {},
   "outputs": [],
   "source": []
  }
 ],
 "metadata": {
  "kernelspec": {
   "display_name": "Python 3",
   "language": "python",
   "name": "python3"
  },
  "language_info": {
   "codemirror_mode": {
    "name": "ipython",
    "version": 3
   },
   "file_extension": ".py",
   "mimetype": "text/x-python",
   "name": "python",
   "nbconvert_exporter": "python",
   "pygments_lexer": "ipython3",
   "version": "3.13.2"
  }
 },
 "nbformat": 4,
 "nbformat_minor": 5
}
