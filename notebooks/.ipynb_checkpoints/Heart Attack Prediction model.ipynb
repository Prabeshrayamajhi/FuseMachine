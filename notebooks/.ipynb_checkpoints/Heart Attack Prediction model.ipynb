{
 "cells": [
  {
   "cell_type": "code",
   "execution_count": 6,
   "id": "d46a0e47",
   "metadata": {},
   "outputs": [],
   "source": [
    "# general libraries \n",
    "\n",
    "import os \n",
    "import numpy as np\n",
    "import pandas as pd \n",
    "import seaborn as sns\n",
    "from tqdm.notebook import tqdm \n",
    "import matplotlib.pyplot as plt "
   ]
  },
  {
   "cell_type": "code",
   "execution_count": 7,
   "id": "827d2dd2",
   "metadata": {},
   "outputs": [],
   "source": [
    "# sklearn libraries \n",
    "\n",
    "from sklearn.preprocessing import RobustScaler\n",
    "from sklearn.model_selection import train_test_split"
   ]
  },
  {
   "cell_type": "code",
   "execution_count": 8,
   "id": "0636bd50",
   "metadata": {},
   "outputs": [],
   "source": [
    "# PyTorch libraries \n",
    "\n",
    "import torch \n",
    "import torch.nn as nn \n",
    "import torch.nn.functional as F \n",
    "from torch.autograd import Variable"
   ]
  },
  {
   "cell_type": "code",
   "execution_count": 18,
   "id": "ac07deb0",
   "metadata": {},
   "outputs": [
    {
     "data": {
      "text/html": [
       "<div>\n",
       "<style scoped>\n",
       "    .dataframe tbody tr th:only-of-type {\n",
       "        vertical-align: middle;\n",
       "    }\n",
       "\n",
       "    .dataframe tbody tr th {\n",
       "        vertical-align: top;\n",
       "    }\n",
       "\n",
       "    .dataframe thead th {\n",
       "        text-align: right;\n",
       "    }\n",
       "</style>\n",
       "<table border=\"1\" class=\"dataframe\">\n",
       "  <thead>\n",
       "    <tr style=\"text-align: right;\">\n",
       "      <th></th>\n",
       "      <th>age</th>\n",
       "      <th>sex</th>\n",
       "      <th>cp</th>\n",
       "      <th>trtbps</th>\n",
       "      <th>chol</th>\n",
       "      <th>fbs</th>\n",
       "      <th>restecg</th>\n",
       "      <th>thalachh</th>\n",
       "      <th>exng</th>\n",
       "      <th>oldpeak</th>\n",
       "      <th>slp</th>\n",
       "      <th>caa</th>\n",
       "      <th>thall</th>\n",
       "      <th>output</th>\n",
       "    </tr>\n",
       "  </thead>\n",
       "  <tbody>\n",
       "    <tr>\n",
       "      <th>0</th>\n",
       "      <td>63</td>\n",
       "      <td>1</td>\n",
       "      <td>3</td>\n",
       "      <td>145</td>\n",
       "      <td>233</td>\n",
       "      <td>1</td>\n",
       "      <td>0</td>\n",
       "      <td>150</td>\n",
       "      <td>0</td>\n",
       "      <td>2.3</td>\n",
       "      <td>0</td>\n",
       "      <td>0</td>\n",
       "      <td>1</td>\n",
       "      <td>1</td>\n",
       "    </tr>\n",
       "    <tr>\n",
       "      <th>1</th>\n",
       "      <td>37</td>\n",
       "      <td>1</td>\n",
       "      <td>2</td>\n",
       "      <td>130</td>\n",
       "      <td>250</td>\n",
       "      <td>0</td>\n",
       "      <td>1</td>\n",
       "      <td>187</td>\n",
       "      <td>0</td>\n",
       "      <td>3.5</td>\n",
       "      <td>0</td>\n",
       "      <td>0</td>\n",
       "      <td>2</td>\n",
       "      <td>1</td>\n",
       "    </tr>\n",
       "    <tr>\n",
       "      <th>2</th>\n",
       "      <td>41</td>\n",
       "      <td>0</td>\n",
       "      <td>1</td>\n",
       "      <td>130</td>\n",
       "      <td>204</td>\n",
       "      <td>0</td>\n",
       "      <td>0</td>\n",
       "      <td>172</td>\n",
       "      <td>0</td>\n",
       "      <td>1.4</td>\n",
       "      <td>2</td>\n",
       "      <td>0</td>\n",
       "      <td>2</td>\n",
       "      <td>1</td>\n",
       "    </tr>\n",
       "    <tr>\n",
       "      <th>3</th>\n",
       "      <td>56</td>\n",
       "      <td>1</td>\n",
       "      <td>1</td>\n",
       "      <td>120</td>\n",
       "      <td>236</td>\n",
       "      <td>0</td>\n",
       "      <td>1</td>\n",
       "      <td>178</td>\n",
       "      <td>0</td>\n",
       "      <td>0.8</td>\n",
       "      <td>2</td>\n",
       "      <td>0</td>\n",
       "      <td>2</td>\n",
       "      <td>1</td>\n",
       "    </tr>\n",
       "    <tr>\n",
       "      <th>4</th>\n",
       "      <td>57</td>\n",
       "      <td>0</td>\n",
       "      <td>0</td>\n",
       "      <td>120</td>\n",
       "      <td>354</td>\n",
       "      <td>0</td>\n",
       "      <td>1</td>\n",
       "      <td>163</td>\n",
       "      <td>1</td>\n",
       "      <td>0.6</td>\n",
       "      <td>2</td>\n",
       "      <td>0</td>\n",
       "      <td>2</td>\n",
       "      <td>1</td>\n",
       "    </tr>\n",
       "  </tbody>\n",
       "</table>\n",
       "</div>"
      ],
      "text/plain": [
       "   age  sex  cp  trtbps  chol  fbs  restecg  thalachh  exng  oldpeak  slp  \\\n",
       "0   63    1   3     145   233    1        0       150     0      2.3    0   \n",
       "1   37    1   2     130   250    0        1       187     0      3.5    0   \n",
       "2   41    0   1     130   204    0        0       172     0      1.4    2   \n",
       "3   56    1   1     120   236    0        1       178     0      0.8    2   \n",
       "4   57    0   0     120   354    0        1       163     1      0.6    2   \n",
       "\n",
       "   caa  thall  output  \n",
       "0    0      1       1  \n",
       "1    0      2       1  \n",
       "2    0      2       1  \n",
       "3    0      2       1  \n",
       "4    0      2       1  "
      ]
     },
     "execution_count": 18,
     "metadata": {},
     "output_type": "execute_result"
    }
   ],
   "source": [
    "data = pd.read_csv(r'C:\\Users\\Dell\\FuseMachine\\Data\\heart.csv')\n",
    "data.head()"
   ]
  },
  {
   "cell_type": "code",
   "execution_count": 19,
   "id": "88529a17",
   "metadata": {},
   "outputs": [
    {
     "data": {
      "text/plain": [
       "age         0\n",
       "sex         0\n",
       "cp          0\n",
       "trtbps      0\n",
       "chol        0\n",
       "fbs         0\n",
       "restecg     0\n",
       "thalachh    0\n",
       "exng        0\n",
       "oldpeak     0\n",
       "slp         0\n",
       "caa         0\n",
       "thall       0\n",
       "output      0\n",
       "dtype: int64"
      ]
     },
     "execution_count": 19,
     "metadata": {},
     "output_type": "execute_result"
    }
   ],
   "source": [
    "# check for any NaN values\n",
    "\n",
    "data.isna().sum()"
   ]
  },
  {
   "cell_type": "code",
   "execution_count": 21,
   "id": "0ce708df",
   "metadata": {},
   "outputs": [],
   "source": [
    "# Define all the features and the target \n",
    "\n",
    "data_replica = data.copy()\n",
    "columns_to_take = [\n",
    "        'age', 'sex', 'cp', \n",
    "        'trtbps', 'chol', 'fbs', 'restecg', 'thalachh', 'exng','oldpeak'\n",
    "]\n",
    "\n",
    "targets = data_replica[['output']]\n",
    "data_replica = data_replica[columns_to_take]"
   ]
  },
  {
   "cell_type": "code",
   "execution_count": 22,
   "id": "4a8b677f",
   "metadata": {},
   "outputs": [],
   "source": [
    "categorical_columns = [\n",
    "    'sex','exng', 'cp','fbs','restecg'\n",
    "]\n",
    "\n",
    "numerical_columns = [\n",
    "    \"age\",\"trtbps\",\"chol\",\"thalachh\",\"oldpeak\"\n",
    "]\n",
    "\n",
    "features = pd.get_dummies(\n",
    "    data_replica, columns=categorical_columns, drop_first=True\n",
    ")"
   ]
  },
  {
   "cell_type": "code",
   "execution_count": 23,
   "id": "f92d9e14",
   "metadata": {},
   "outputs": [],
   "source": [
    "# scale the features so that everything is under the similar dist\n",
    "# we will also have to save the scaler for future use \n",
    "\n",
    "scaler = RobustScaler() \n",
    "features[numerical_columns] = scaler.fit_transform(features[numerical_columns])"
   ]
  },
  {
   "cell_type": "markdown",
   "id": "c934a65b",
   "metadata": {},
   "source": [
    "### Train Test Split of features and targets "
   ]
  },
  {
   "cell_type": "code",
   "execution_count": 24,
   "id": "718687aa",
   "metadata": {},
   "outputs": [],
   "source": [
    "X_train, X_valid, y_train, y_valid = train_test_split(\n",
    "    features, targets, test_size = 0.1, random_state=1564\n",
    ")"
   ]
  },
  {
   "cell_type": "code",
   "execution_count": 25,
   "id": "dfb70d54",
   "metadata": {},
   "outputs": [],
   "source": [
    "# conversion of X, y to numpy array \n",
    "\n",
    "X_train, X_valid = np.array(X_train), np.array(X_valid)\n",
    "y_train, y_valid = np.array(y_train), np.array(y_valid)"
   ]
  },
  {
   "cell_type": "markdown",
   "id": "b4fb7c97",
   "metadata": {},
   "source": [
    "### Making the model"
   ]
  },
  {
   "cell_type": "code",
   "execution_count": 26,
   "id": "90dd125d",
   "metadata": {},
   "outputs": [],
   "source": [
    "class Model(nn.Module):\n",
    "    def __init__(self, in_features : int) -> None:\n",
    "        super(Model, self).__init__() \n",
    "        self.linear_layer1 = nn.Linear(in_features, 16)\n",
    "        self.linear_layer2 = nn.Linear(16, 16)\n",
    "        self.dropout = nn.Dropout(p=0.5)\n",
    "        self.classifier_layer = nn.Linear(16, 2)\n",
    "    \n",
    "    def forward(self, x : torch.Tensor):\n",
    "        x = F.relu(self.linear_layer1(x))\n",
    "        x = F.relu(self.linear_layer2(x))\n",
    "        return F.softmax(self.classifier_layer(x), dim=1)"
   ]
  },
  {
   "cell_type": "code",
   "execution_count": 27,
   "id": "465cfc03",
   "metadata": {},
   "outputs": [
    {
     "name": "stdout",
     "output_type": "stream",
     "text": [
      "=> using cpu\n"
     ]
    }
   ],
   "source": [
    "device = 'cuda' if torch.cuda.is_available() else 'cpu'\n",
    "print(f\"=> using {device}\")"
   ]
  },
  {
   "cell_type": "code",
   "execution_count": 33,
   "id": "909727a0",
   "metadata": {},
   "outputs": [],
   "source": [
    "X_train = X_train.float().to(device)\n",
    "X_valid = X_valid.float().to(device)\n",
    "\n",
    "y_train = y_train.long().to(device)\n",
    "y_valid = y_valid.long().to(device)\n"
   ]
  },
  {
   "cell_type": "markdown",
   "id": "e992fede",
   "metadata": {},
   "source": [
    "### Initialising the model and constants and training the model"
   ]
  },
  {
   "cell_type": "code",
   "execution_count": 34,
   "id": "9015297c",
   "metadata": {},
   "outputs": [],
   "source": [
    "model = Model(X_train.shape[1]).to(device)\n",
    "loss_fn = nn.CrossEntropyLoss() \n",
    "optimizer = torch.optim.Adam(model.parameters(), lr=0.01)"
   ]
  },
  {
   "cell_type": "code",
   "execution_count": 35,
   "id": "96e29181",
   "metadata": {},
   "outputs": [],
   "source": [
    "EPOCHS=30"
   ]
  },
  {
   "cell_type": "code",
   "execution_count": 36,
   "id": "c45efa94",
   "metadata": {},
   "outputs": [
    {
     "data": {
      "application/vnd.jupyter.widget-view+json": {
       "model_id": "23e6d54b7ae84a2fbdb88e010e083113",
       "version_major": 2,
       "version_minor": 0
      },
      "text/plain": [
       "  0%|          | 0/30 [00:00<?, ?it/s]"
      ]
     },
     "metadata": {},
     "output_type": "display_data"
    }
   ],
   "source": [
    "# Training the model \n",
    "\n",
    "loss_list     = np.zeros((EPOCHS,))\n",
    "accuracy_list = np.zeros((EPOCHS,))\n",
    "\n",
    "for epoch in tqdm(range(EPOCHS), total=EPOCHS):\n",
    "    y_pred = model(X_train)\n",
    "    loss = loss_fn(y_pred, y_train)\n",
    "    loss_list[epoch] = loss.item()\n",
    "    \n",
    "    optimizer.zero_grad()\n",
    "    loss.backward()\n",
    "    optimizer.step()\n",
    "    \n",
    "    with torch.no_grad():\n",
    "        y_pred = model(X_valid)\n",
    "        correct = (torch.argmax(y_pred, dim=1) == y_valid).type(torch.FloatTensor)\n",
    "        accuracy_list[epoch] = correct.mean()"
   ]
  },
  {
   "cell_type": "markdown",
   "id": "fef17bc0",
   "metadata": {},
   "source": [
    "### Plotting the accuracy "
   ]
  },
  {
   "cell_type": "code",
   "execution_count": 37,
   "id": "c80c0c4f",
   "metadata": {},
   "outputs": [
    {
     "data": {
      "image/png": "[encoded data removed]",
      "text/plain": [
       "<Figure size 640x480 with 1 Axes>"
      ]
     },
     "metadata": {},
     "output_type": "display_data"
    }
   ],
   "source": [
    "plt.plot(loss_list)\n",
    "plt.plot(accuracy_list)\n",
    "plt.show()"
   ]
  },
  {
   "cell_type": "code",
   "execution_count": 38,
   "id": "ac80ff9e",
   "metadata": {},
   "outputs": [
    {
     "data": {
      "text/plain": [
       "Text(0.5, 0, 'epochs')"
      ]
     },
     "execution_count": 38,
     "metadata": {},
     "output_type": "execute_result"
    },
    {
     "data": {
      "image/png": "[encoded data removed]",
      "text/plain": [
       "<Figure size 1200x600 with 2 Axes>"
      ]
     },
     "metadata": {},
     "output_type": "display_data"
    }
   ],
   "source": [
    "fig, (ax1, ax2) = plt.subplots(2, figsize=(12, 6), sharex=True)\n",
    "\n",
    "ax1.plot(accuracy_list)\n",
    "ax1.set_ylabel(\"validation accuracy\")\n",
    "ax2.plot(loss_list)\n",
    "ax2.set_ylabel(\"validation loss\")\n",
    "ax2.set_xlabel(\"epochs\")"
   ]
  },
  {
   "cell_type": "markdown",
   "id": "64dc7307",
   "metadata": {},
   "source": [
    "### Model Inference"
   ]
  },
  {
   "cell_type": "code",
   "execution_count": 39,
   "id": "29e839d5",
   "metadata": {},
   "outputs": [],
   "source": [
    "# sample request form \n",
    "\n",
    "parameters = {\n",
    "    'age' : 55, \n",
    "    'sex' : 'male', \n",
    "    'chest_pain_type': 2, \n",
    "    'resting_blood_pressure': 154, \n",
    "    'cholesterol': True, \n",
    "    'fasting_blood_sugar': True,\n",
    "    'resting_electro_cardio_graphic_result': 2, # between 0-2 \n",
    "    'max_heart_rate_achieved': 180, \n",
    "    'exercise_induced_angina': False, \n",
    "    'old_peak': 1.5, \n",
    "    \n",
    "}"
   ]
  },
  {
   "cell_type": "code",
   "execution_count": 40,
   "id": "608a7b0f",
   "metadata": {},
   "outputs": [],
   "source": [
    "# preprocess the request \n",
    "\n",
    "\n",
    "def preprocess_request(parameters):\n",
    "    categorical_columns = [\n",
    "    'sex','exng', 'cp','fbs','restecg'\n",
    "    ]\n",
    "\n",
    "\n",
    "    categorical_mapping = {\n",
    "        'chest_pain_type' : {\n",
    "            0 : [1, 0, 0], \n",
    "            1 : [0, 1, 0], \n",
    "            2 : [0, 0, 1]\n",
    "        }, \n",
    "\n",
    "        'resting_electro_cardio_graphic_result': {\n",
    "            0 : [1, 0], \n",
    "            1 : [0, 1], \n",
    "            2 : [1, 1]\n",
    "        }\n",
    "    }\n",
    "\n",
    "    parameters['sex'] = 0 if parameters['sex'] == 'male' else 1\n",
    "    parameters['cholesterol'] = int(parameters['cholesterol'])\n",
    "    parameters['fasting_blood_sugar'] = int(parameters['fasting_blood_sugar'])\n",
    "    parameters['exercise_induced_angina'] = int(parameters['exercise_induced_angina'])\n",
    "\n",
    "    parameters['chest_pain_type'] = categorical_mapping['chest_pain_type'][parameters['chest_pain_type']]\n",
    "    parameters['resting_electro_cardio_graphic_result'] = categorical_mapping[\n",
    "                'resting_electro_cardio_graphic_result'\n",
    "            ][parameters['resting_electro_cardio_graphic_result']]\n",
    "    \n",
    "    values = list(parameters.values())\n",
    "    value_list = []\n",
    "\n",
    "    for val in values:\n",
    "        if type(val) == list:\n",
    "            value_list += val\n",
    "        else:\n",
    "            value_list.append(val)\n",
    "    features = scaler.fit_transform(np.array(value_list).reshape(-1, 1)).T\n",
    "    return torch.tensor(features, dtype=torch.float32)"
   ]
  },
  {
   "cell_type": "code",
   "execution_count": 41,
   "id": "1fe0e66c",
   "metadata": {},
   "outputs": [],
   "source": [
    "\n",
    "features = preprocess_request(parameters)\n",
    "prediction = torch.argmax(model(features.to(device))).item()"
   ]
  },
  {
   "cell_type": "markdown",
   "id": "03e6340b",
   "metadata": {},
   "source": [
    "### Saving the model and the scaler"
   ]
  },
  {
   "cell_type": "code",
   "execution_count": 45,
   "id": "759cea5d",
   "metadata": {},
   "outputs": [],
   "source": [
    "torch.save(model.state_dict(),r'C:\\Users\\Dell\\FuseMachine\\Models\\baseline_model.pt')"
   ]
  },
  {
   "cell_type": "code",
   "execution_count": 48,
   "id": "ae04ab18",
   "metadata": {},
   "outputs": [
    {
     "data": {
      "text/plain": [
       "['C:\\\\Users\\\\Dell\\\\FuseMachine\\\\Models\\\\baseline_scaler.joblib']"
      ]
     },
     "execution_count": 48,
     "metadata": {},
     "output_type": "execute_result"
    }
   ],
   "source": [
    "from joblib import dump\n",
    "dump(scaler, r'C:\\Users\\Dell\\FuseMachine\\Models\\baseline_scaler.joblib', compress=True)"
   ]
  },
  {
   "cell_type": "code",
   "execution_count": null,
   "id": "ff635d71",
   "metadata": {},
   "outputs": [],
   "source": []
  }
 ],
 "metadata": {
  "kernelspec": {
   "display_name": "Python 3",
   "language": "python",
   "name": "python3"
  },
  "language_info": {
   "codemirror_mode": {
    "name": "ipython",
    "version": 3
   },
   "file_extension": ".py",
   "mimetype": "text/x-python",
   "name": "python",
   "nbconvert_exporter": "python",
   "pygments_lexer": "ipython3",
   "version": "3.13.2"
  }
 },
 "nbformat": 4,
 "nbformat_minor": 5
}
